{
 "cells": [
  {
   "cell_type": "code",
   "execution_count": 3,
   "id": "0194b257-98d2-4e4d-9bce-8cc7b18b3051",
   "metadata": {},
   "outputs": [
    {
     "data": {
      "application/vnd.jupyter.widget-view+json": {
       "model_id": "17fdf1d522ee4c619bf2b34084cc6333",
       "version_major": 2,
       "version_minor": 0
      },
      "text/plain": [
       "Downloading artifacts:   0%|          | 0/9 [00:00<?, ?it/s]"
      ]
     },
     "metadata": {},
     "output_type": "display_data"
    },
    {
     "name": "stdout",
     "output_type": "stream",
     "text": [
      "[125.55957884 199.88960735 230.57063896 143.13087735 258.60195068\n",
      " 134.10199235 169.61987229 112.93540834 163.72360371 176.65759218\n",
      " 143.74354039  83.02318226 158.81197217 256.32998685 158.09203825\n",
      " 145.87175542 103.86705808 241.11842017 112.60144859  89.41350243\n",
      " 223.57274883 219.38847201 248.52693514 234.11584568 186.7470389\n",
      " 104.94674786  91.75120283  97.56163237 164.98420374  98.79140912\n",
      " 163.96627459 160.77647333 262.52701676 104.47866333 121.76270074\n",
      "  87.83113344 148.41355769  99.69340695  82.27680676 143.40850846\n",
      " 225.815734   122.64756595  91.42239887  98.14681869  85.324203\n",
      " 114.49022802 120.07175972 201.00720698 224.30987235 138.67676621\n",
      " 209.52732091 147.27927378 160.58058155 223.64783462 250.43999082\n",
      "  80.3995977  144.58363513 255.77108516 199.41572074 152.37119552\n",
      "  90.64397433 181.86698275 147.12318135 260.80908676 165.23022162\n",
      " 155.37155266 150.52438501  95.57952942  87.60493064 142.68198297\n",
      " 259.03982141 182.9090379  103.06353866  84.71113144 140.43480046\n",
      " 273.27751405  92.27040831 170.13606071 127.66643242 162.54313831\n",
      " 100.31816797  90.61994569 225.77985889 190.64606477 174.25830203\n",
      " 206.65288449  83.64712758 172.47233973  76.80225492 206.53970225\n",
      "  79.05441869 134.48574988 125.05751826 239.27227795 236.0294698\n",
      " 113.84805567 255.32054098  99.66031973 180.80690963 120.55310934\n",
      "  97.42617328 138.22119147 214.15594418 159.28997285 129.02177056\n",
      " 113.3917835  209.34659505 166.48817419 105.56896969  87.88010696\n",
      " 129.155684  ]\n"
     ]
    }
   ],
   "source": [
    "import mlflow\n",
    "\n",
    "from sklearn.model_selection import train_test_split\n",
    "from sklearn.datasets import load_diabetes\n",
    "\n",
    "mlflow.set_tracking_uri('http://mlflow-web:5000')\n",
    "\n",
    "db = load_diabetes()\n",
    "X_train, X_test, y_train, y_test = train_test_split(db.data, db.target)\n",
    "\n",
    "run_id = \"0b24d104f3c04cdd975a314b239dc4a2\"\n",
    "model = mlflow.sklearn.load_model(f\"runs:/{run_id}/model\")\n",
    "predictions = model.predict(X_test)\n",
    "print(predictions)"
   ]
  },
  {
   "cell_type": "code",
   "execution_count": null,
   "id": "9032469b-dec4-4442-a35c-e2204b5a10fd",
   "metadata": {},
   "outputs": [],
   "source": []
  }
 ],
 "metadata": {
  "kernelspec": {
   "display_name": "Python 3 (ipykernel)",
   "language": "python",
   "name": "python3"
  },
  "language_info": {
   "codemirror_mode": {
    "name": "ipython",
    "version": 3
   },
   "file_extension": ".py",
   "mimetype": "text/x-python",
   "name": "python",
   "nbconvert_exporter": "python",
   "pygments_lexer": "ipython3",
   "version": "3.11.6"
  }
 },
 "nbformat": 4,
 "nbformat_minor": 5
}
